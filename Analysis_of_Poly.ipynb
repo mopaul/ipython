{
 "metadata": {
  "name": ""
 },
 "nbformat": 3,
 "nbformat_minor": 0,
 "worksheets": [
  {
   "cells": [
    {
     "cell_type": "code",
     "collapsed": false,
     "input": [
      "from io import open\n",
      "from glob import glob\n",
      "from numpy import asarray"
     ],
     "language": "python",
     "metadata": {},
     "outputs": [],
     "prompt_number": 35
    },
    {
     "cell_type": "code",
     "collapsed": false,
     "input": [
      "word_file = '/home/mopaul/sbu_embs/100000.vocab'\n",
      "emb_file = '/home/mopaul/sbu_embs/100000.embs'\n",
      "words = open(word_file, 'r').read().split()\n",
      "embeddings = []\n",
      "for line in open(emb_file):\n",
      "    emb = line.strip().split(',')\n",
      "    embeddings.append([float(x) for x in emb[:-1]])\n",
      "embeddings = asarray(embeddings)"
     ],
     "language": "python",
     "metadata": {},
     "outputs": [],
     "prompt_number": 36
    },
    {
     "cell_type": "code",
     "collapsed": false,
     "input": [
      "from sklearn.neighbors import NearestNeighbors\n",
      "\n",
      "knn = NearestNeighbors(n_neighbors=20, algorithm='ball_tree')\n",
      "knn.fit(embeddings)\n",
      "\n",
      "word_id = {w:i for i, w in enumerate(words)}\n",
      "id_word = {i:w for i, w in enumerate(words)}"
     ],
     "language": "python",
     "metadata": {},
     "outputs": [],
     "prompt_number": 37
    },
    {
     "cell_type": "code",
     "collapsed": false,
     "input": [
      "def get_neighbors(word):\n",
      "    id_ = word_id[word]\n",
      "    point = embeddings[id_]\n",
      "    get_knn_point(point)\n",
      "\n",
      "def get_knn_point(point):\n",
      "    distances, indices = knn.kneighbors(point)\n",
      "    for i, (index, d) in enumerate(zip(indices[0], distances[0])):\n",
      "        print u'{: <3}{: <20}{: <10}'.format(i, id_word[index], d)\n",
      "        \n",
      "def get_knn_phrase(phrase):\n",
      "    accumulator = get_phrase_point(phrase)\n",
      "    get_knn_point(accumulator)\n",
      "    \n",
      "def get_phrase_point(phrase):\n",
      "    accumulator = 0\n",
      "    for word in phrase.strip().split():\n",
      "        accumulator += embeddings[word_id[word]]\n",
      "    return accumulator"
     ],
     "language": "python",
     "metadata": {},
     "outputs": [],
     "prompt_number": 38
    },
    {
     "cell_type": "markdown",
     "metadata": {},
     "source": [
      "Nearest Neighbours of words\n",
      "============================\n",
      "\n",
      "This is a typical experiment where we sort the words by their Euclidean distance.\n",
      "\n",
      "**Observations**\n",
      "\n",
      "* apple is mainly a company in these embeddings.\n",
      "\n",
      "* book and books are close to each other. The space is partitioned by the meaning not by part of speech.\n",
      "\n",
      "* The neighbors of \"the\" are not quite expected."
     ]
    },
    {
     "cell_type": "code",
     "collapsed": false,
     "input": [
      "get_neighbors('apple')"
     ],
     "language": "python",
     "metadata": {},
     "outputs": [
      {
       "output_type": "stream",
       "stream": "stdout",
       "text": [
        "0  apple               0.0       \n",
        "1  onion               1.13533122821\n",
        "2  potato              1.34468641046\n",
        "3  tomato              1.37394915014\n",
        "4  bean                1.41143918339\n",
        "5  egg                 1.42495777721\n",
        "6  pepper              1.46255592381\n",
        "7  almond              1.4793599015\n",
        "8  sausage             1.47984541555\n",
        "9  lemon               1.48003287994\n",
        "10 turkey              1.48890992155\n",
        "11 chicken             1.49028963522\n",
        "12 reed                1.49619829658\n",
        "13 dessert             1.50486099475\n",
        "14 peach               1.50757844739\n",
        "15 strawberry          1.51037206766\n",
        "16 pea                 1.52466340165\n",
        "17 pearl               1.54394163463\n",
        "18 pig                 1.5503600511\n",
        "19 pear                1.55072640969\n"
       ]
      }
     ],
     "prompt_number": 39
    },
    {
     "cell_type": "code",
     "collapsed": false,
     "input": [
      "get_neighbors('January')"
     ],
     "language": "python",
     "metadata": {},
     "outputs": [
      {
       "output_type": "stream",
       "stream": "stdout",
       "text": [
        "0  January             0.0       \n",
        "1  February            0.651694587576\n",
        "2  December            0.70616735972\n",
        "3  July                0.748571408069\n",
        "4  April               0.786252480737\n",
        "5  October             0.858362442216\n",
        "6  September           0.882849273386\n",
        "7  June                0.903939289046\n",
        "8  November            0.934697705877\n",
        "9  August              1.55341506308\n",
        "10 March               1.92265947596\n",
        "11 Dec                 2.23158825847\n",
        "12 May                 2.38452344534\n",
        "13 Nov.                2.53972157877\n",
        "14 Feb                 2.55900669039\n",
        "15 Sept.               2.55975009487\n",
        "16 Feb.                2.5616685705\n",
        "17 Oct.                2.57507162464\n",
        "18 Aug.                2.58421682384\n",
        "19 Oct                 2.58544227698\n"
       ]
      }
     ],
     "prompt_number": 41
    },
    {
     "cell_type": "code",
     "collapsed": false,
     "input": [
      "get_neighbors('the')"
     ],
     "language": "python",
     "metadata": {},
     "outputs": [
      {
       "output_type": "stream",
       "stream": "stdout",
       "text": [
        "0  the                 0.0       \n",
        "1  Playboy             3.66255938724\n",
        "2  Nikkatsu            3.68364700132\n",
        "3  Miramax             3.69262590153\n",
        "4  Nightwish           3.71885383135\n",
        "5  Michelin            3.72265919525\n",
        "6  SNL                 3.74537505111\n",
        "7  Elektra             3.74880631321\n",
        "8  Stax                3.75148315044\n",
        "9  Masada              3.7552930894\n",
        "10 Starfleet           3.75626312558\n",
        "11 Slipknot            3.7563343009\n",
        "12 R.E.M.              3.76125024252\n",
        "13 Dilbert             3.77120033792\n",
        "14 JetBlue             3.77304063721\n",
        "15 Hogwarts            3.77375733404\n",
        "16 ACME                3.77449918162\n",
        "17 Sandringham         3.77502963258\n",
        "18 Nelvana             3.77615039783\n",
        "19 Dumbarton           3.77684275105\n"
       ]
      }
     ],
     "prompt_number": 42
    },
    {
     "cell_type": "code",
     "collapsed": false,
     "input": [
      "get_neighbors('book')"
     ],
     "language": "python",
     "metadata": {},
     "outputs": [
      {
       "output_type": "stream",
       "stream": "stdout",
       "text": [
        "0  book                0.0       \n",
        "1  song                1.58416192214\n",
        "2  movie               1.65917617863\n",
        "3  project             1.70264801838\n",
        "4  show                1.70498674056\n",
        "5  novel               1.72748936006\n",
        "6  documentary         1.80261360485\n",
        "7  journal             1.81668402828\n",
        "8  picture             1.82061600076\n",
        "9  film                1.82508172516\n",
        "10 article             1.82979796\n",
        "11 paper               1.86779939286\n",
        "12 model               1.93132944506\n",
        "13 demo                1.95778184073\n",
        "14 cartoon             1.97808467511\n",
        "15 video               1.97848743856\n",
        "16 site                1.98359308732\n",
        "17 review              1.98429780691\n",
        "18 track               1.99119677519\n",
        "19 feature             1.99238244594\n"
       ]
      }
     ],
     "prompt_number": 43
    },
    {
     "cell_type": "markdown",
     "metadata": {},
     "source": [
      "Nearest Neighbours of phrases\n",
      "==============================\n",
      "Here, I sum up the vectors of the phrase and then look at the nearest neighbours.\n",
      "\n",
      "**Observations**\n",
      "\n",
      "* The words that make up the phrase are still the closest to the phrase.\n",
      "* Notice that not all the words have the same influence, in the phrase \"second month of the year\", only {second, month, year} are close to the phrase it does not seem that {of, the} changed the phrase embeddings that much."
     ]
    },
    {
     "cell_type": "code",
     "collapsed": false,
     "input": [
      "get_knn_phrase(\"very good\")"
     ],
     "language": "python",
     "metadata": {},
     "outputs": [
      {
       "output_type": "stream",
       "stream": "stdout",
       "text": [
        "0  very                3.002743071\n",
        "1  more                3.13406775613\n",
        "2  less                3.16487789774\n",
        "3  relatively          3.44438022114\n",
        "4  good                3.47015874065\n",
        "5  little              3.60086637483\n",
        "6  extremely           3.62308906122\n",
        "7  fairly              3.63239356704\n",
        "8  pretty              3.64415004946\n",
        "9  bad                 3.64595667665\n",
        "10 much                3.65556775945\n",
        "11 quite               3.66487867664\n",
        "12 totally             3.70596389203\n",
        "13 great               3.71112768172\n",
        "14 better              3.71325424993\n",
        "15 serious             3.72306793162\n",
        "16 no                  3.72880511999\n",
        "17 too                 3.73301521011\n",
        "18 common              3.74114598292\n",
        "19 slightly            3.74580121521\n"
       ]
      }
     ],
     "prompt_number": 44
    },
    {
     "cell_type": "code",
     "collapsed": false,
     "input": [
      "get_knn_phrase(\"not good\")"
     ],
     "language": "python",
     "metadata": {},
     "outputs": [
      {
       "output_type": "stream",
       "stream": "stdout",
       "text": [
        "0  not                 3.002743071\n",
        "1  only                3.25976508819\n",
        "2  just                3.32268448415\n",
        "3  good                3.32383597274\n",
        "4  better              3.48055953422\n",
        "5  no                  3.58192060613\n",
        "6  more                3.62245560569\n",
        "7  likely              3.63640185417\n",
        "8  even                3.63755853204\n",
        "9  one                 3.72121960698\n",
        "10 less                3.72461514906\n",
        "11 now                 3.72485603532\n",
        "12 still               3.75878665164\n",
        "13 little              3.78075881898\n",
        "14 first               3.81019080441\n",
        "15 always              3.81040693716\n",
        "16 great               3.81621260977\n",
        "17 free                3.8567999657\n",
        "18 further             3.87376778023\n",
        "19 later               3.88230469982\n"
       ]
      }
     ],
     "prompt_number": 45
    },
    {
     "cell_type": "code",
     "collapsed": false,
     "input": [
      "get_knn_phrase(\"not bad\")"
     ],
     "language": "python",
     "metadata": {},
     "outputs": [
      {
       "output_type": "stream",
       "stream": "stdout",
       "text": [
        "0  not                 2.61928552131\n",
        "1  just                3.14864411604\n",
        "2  even                3.21981993637\n",
        "3  only                3.23154760823\n",
        "4  likely              3.24467820011\n",
        "5  good                3.28120877096\n",
        "6  bad                 3.32383597274\n",
        "7  less                3.37145337347\n",
        "8  better              3.37354347962\n",
        "9  more                3.38913567022\n",
        "10 no                  3.40604251293\n",
        "11 always              3.48650954877\n",
        "12 really              3.48658524807\n",
        "13 little              3.48678249321\n",
        "14 great               3.49640176227\n",
        "15 probably            3.50367631005\n",
        "16 true                3.51675554585\n",
        "17 now                 3.53027858524\n",
        "18 still               3.54032515131\n",
        "19 yet                 3.55631997506\n"
       ]
      }
     ],
     "prompt_number": 46
    },
    {
     "cell_type": "code",
     "collapsed": false,
     "input": [
      "get_knn_phrase(\"extremely bad\")"
     ],
     "language": "python",
     "metadata": {},
     "outputs": [
      {
       "output_type": "stream",
       "stream": "stdout",
       "text": [
        "0  extremely           2.61928552131\n",
        "1  very                2.87608990321\n",
        "2  relatively          2.95814660064\n",
        "3  incredibly          3.05025695821\n",
        "4  fairly              3.14573938461\n",
        "5  less                3.17577249404\n",
        "6  pretty              3.17932518846\n",
        "7  overly              3.1814938451\n",
        "8  too                 3.20421237951\n",
        "9  exceptionally       3.21810701466\n",
        "10 increasingly        3.29781131734\n",
        "11 comparatively       3.298487428\n",
        "12 exceedingly         3.3082573644\n",
        "13 remarkably          3.32703641951\n",
        "14 unusually           3.34919160464\n",
        "15 quite               3.37014160438\n",
        "16 equally             3.42689576756\n",
        "17 bad                 3.42784068714\n",
        "18 absolutely          3.43002869422\n",
        "19 totally             3.48291536306\n"
       ]
      }
     ],
     "prompt_number": 47
    },
    {
     "cell_type": "code",
     "collapsed": false,
     "input": [
      "get_knn_phrase(\"second month of the year\")"
     ],
     "language": "python",
     "metadata": {},
     "outputs": [
      {
       "output_type": "stream",
       "stream": "stdout",
       "text": [
        "0  year                7.84985401553\n",
        "1  second              8.13730879754\n",
        "2  one                 8.23680581059\n",
        "3  month               8.24559670383\n",
        "4  final               8.29616030318\n",
        "5  first               8.31563473514\n",
        "6  third               8.32778660106\n",
        "7  time                8.39928698177\n",
        "8  day                 8.40052169254\n",
        "9  top                 8.42745381204\n",
        "10 place               8.43714360866\n",
        "11 week                8.44559897791\n",
        "12 single              8.44877645031\n",
        "13 season              8.45690071041\n",
        "14 fourth              8.46409419077\n",
        "15 ##th                8.4985761514\n",
        "16 total               8.5421132871\n",
        "17 minute              8.54720712538\n",
        "18 record              8.55726772534\n",
        "19 fifth               8.57456864151\n"
       ]
      }
     ],
     "prompt_number": 48
    },
    {
     "cell_type": "code",
     "collapsed": false,
     "input": [
      "get_knn_phrase(\"the month after January\")"
     ],
     "language": "python",
     "metadata": {},
     "outputs": [
      {
       "output_type": "stream",
       "stream": "stdout",
       "text": [
        "0  July                5.84283722172\n",
        "1  November            5.8567388389\n",
        "2  June                5.91491333368\n",
        "3  December            5.9241081214\n",
        "4  February            5.94606718793\n",
        "5  January             6.00079855696\n",
        "6  September           6.00993094528\n",
        "7  October             6.05564635625\n",
        "8  August              6.05762934013\n",
        "9  April               6.14652136513\n",
        "10 year                6.35831037911\n",
        "11 prior               6.40101144659\n",
        "12 March               6.42204537618\n",
        "13 May                 6.44451889484\n",
        "14 month               6.49795605199\n",
        "15 week                6.50720281614\n",
        "16 decade              6.54855666528\n",
        "17 after               6.55331359467\n",
        "18 Dec                 6.58167272258\n",
        "19 before              6.70452989337\n"
       ]
      }
     ],
     "prompt_number": 50
    },
    {
     "cell_type": "markdown",
     "metadata": {},
     "source": [
      "Decompose a sentence\n",
      "=====================\n",
      "\n",
      "Given a phrase a sum of the vectors of its own words, to reverse the procedure we have to solve the linear system\n",
      "```python\n",
      "Phrase = dot(Occurrence Matrix, Embeddings Matrix)\n",
      "Occurrence Matrix = dot(Phrase, Embedding Matrix Inverse)\n",
      "```\n",
      "Therefore, we need to calculate the psuedo inverse of embeddings matrix and look at the largest component of the solution.\n",
      "\n",
      "I am surprised it works really good! Of course, it is harder to decide at which component we should stop?! However, we can start building a partial solution and compare the sentence to the partial solution and stop we we start diverging from the sentence :).\n"
     ]
    },
    {
     "cell_type": "code",
     "collapsed": false,
     "input": [
      "from numpy.linalg import pinv\n",
      "embeddings_inverse = pinv(embeddings)"
     ],
     "language": "python",
     "metadata": {},
     "outputs": [],
     "prompt_number": 51
    },
    {
     "cell_type": "code",
     "collapsed": false,
     "input": [
      "from numpy import dot\n",
      "\n",
      "def decompose(phrase):\n",
      "    words = dot(get_phrase_point(phrase), embeddings_inverse)\n",
      "    print '\\n'.join([u'{: <3}{: <20}{: <10}'.format(i, id_word[x], words[x]) for i, x in enumerate(reversed(words.argsort()[-15:]))])"
     ],
     "language": "python",
     "metadata": {},
     "outputs": [],
     "prompt_number": 52
    },
    {
     "cell_type": "code",
     "collapsed": false,
     "input": [
      "decompose('not good')"
     ],
     "language": "python",
     "metadata": {},
     "outputs": [
      {
       "output_type": "stream",
       "stream": "stdout",
       "text": [
        "0  n't                 0.00365590828734\n",
        "1  not                 0.00297141844258\n",
        "2  been                0.00281948957059\n",
        "3  nRIGHTt             0.00242408402024\n",
        "4  being               0.00229863417549\n",
        "5  I                   0.00228928874827\n",
        "6  'll                 0.00219429319657\n",
        "7  no                  0.002193328851\n",
        "8  we                  0.00206896514526\n",
        "9  let                 0.00197251032676\n",
        "10 |align=center|#     0.00193696329209\n",
        "11 likely              0.00189373830684\n",
        "12 now                 0.00188317483425\n",
        "13 they                0.00187430839253\n",
        "14 you                 0.00186650468126\n"
       ]
      }
     ],
     "prompt_number": 53
    },
    {
     "cell_type": "code",
     "collapsed": false,
     "input": [
      "decompose('second month of the year')"
     ],
     "language": "python",
     "metadata": {},
     "outputs": [
      {
       "output_type": "stream",
       "stream": "stdout",
       "text": [
        "0  <PAD>               0.00786587815479\n",
        "1  year                0.00661123052709\n",
        "2  month               0.00654612308685\n",
        "3  the                 0.00552951445215\n",
        "4  months              0.00534118063727\n",
        "5  of                  0.00530794311065\n",
        "6  week                0.00529258909036\n",
        "7  years               0.00520755218486\n",
        "8  $                   0.00518403601264\n",
        "9  hour                0.00495386569844\n",
        "10 century             0.00491310210316\n",
        "11 minute              0.00488473958139\n",
        "12 yard                0.00486238151588\n",
        "13 See                 0.00483245485369\n",
        "14 day                 0.00477530731045\n"
       ]
      }
     ],
     "prompt_number": 54
    },
    {
     "cell_type": "code",
     "collapsed": false,
     "input": [
      "decompose('president of united states is Barrack Obama')"
     ],
     "language": "python",
     "metadata": {},
     "outputs": [
      {
       "output_type": "stream",
       "stream": "stdout",
       "text": [
        "0  of                  0.00719587389895\n",
        "1  is                  0.00449769770634\n",
        "2  was                 0.0042791483254\n",
        "3  with                0.00409347007787\n",
        "4  a                   0.00357365365256\n",
        "5  In                  0.00355773437683\n",
        "6  into                0.00346853372692\n",
        "7  during              0.00320132048378\n",
        "8  Upon                0.00314855472928\n",
        "9  Ministry            0.00313728807564\n",
        "10 as                  0.00300230364704\n",
        "11 See                 0.00295336679063\n",
        "12 for                 0.00294395359274\n",
        "13 Of                  0.00293318212063\n",
        "14 on                  0.00292380523917\n"
       ]
      }
     ],
     "prompt_number": 55
    },
    {
     "cell_type": "markdown",
     "metadata": {},
     "source": [
      "Influence of Frequenct on Vector Norm\n",
      "======================================\n",
      "\n",
      "The results do not show anything obvious, again we do not know how these vectors were trained!"
     ]
    },
    {
     "cell_type": "code",
     "collapsed": false,
     "input": [
      "norms = (embeddings ** 2).sum(axis=1) ** 0.5\n",
      "indices = norms.argsort()\n",
      "print \"Largest vectors\"\n",
      "print '\\n'.join([u'{: <3}{: <20}{: <10}'.format(i, id_word[x], norms[x]) for i, x in enumerate(reversed(indices[-50:]))])\n",
      "\n",
      "print \"\\n\\nSmallest vectors\"\n",
      "print '\\n'.join([u'{: <3}{: <20}{: <10}'.format(i, id_word[x], norms[x]) for i, x in enumerate(indices[:50])])\n",
      "\n",
      "\n"
     ],
     "language": "python",
     "metadata": {},
     "outputs": [
      {
       "output_type": "stream",
       "stream": "stdout",
       "text": [
        "Largest vectors\n",
        "0  UTC                 13.8959578757\n",
        "1  <PAD>               8.69498538621\n",
        "2  an                  6.99729586753\n",
        "3  St                  6.85404468138\n",
        "4  .e                  6.0999056019\n",
        "5  talk                6.05842994611\n",
        "6  :##                 5.78083636303\n",
        "7  The                 5.61853374461\n",
        "8  %                   5.49809714821\n",
        "9  San                 5.37275591014\n",
        "10 An                  5.34070502142\n",
        "11 |align              5.33603368324\n",
        "12 refer               5.26215810165\n",
        "13 |align=left         5.24315921805\n",
        "14 's                  5.21539258277\n",
        "15 LinkWatcher         5.20166648263\n",
        "16 County              5.14197633281\n",
        "17 align               5.09579990269\n",
        "18 'm                  5.0142547211\n",
        "19 .Below              5.0110206487\n",
        "20 geocoordinate       4.93099818886\n",
        "21 a                   4.91658245465\n",
        "22 COIBot              4.87993717993\n",
        "23 des                 4.87971031024\n",
        "24 .The                4.86176529026\n",
        "25 $                   4.82055584026\n",
        "26 la                  4.78152311063\n",
        "27 according           4.74876986972\n",
        "28 million             4.7161453671\n",
        "29 See                 4.6872448498\n",
        "30 can                 4.68151618865\n",
        "31 Santa               4.65477206122\n",
        "32 External            4.64335864406\n",
        "33 |                   4.6251699788\n",
        "34 n't                 4.62045437501\n",
        "35 According           4.60525737052\n",
        "36 {{                  4.59828781069\n",
        "37 :WikiProject        4.57749576644\n",
        "38 HMS                 4.54969490262\n",
        "39 ##:##               4.52654435123\n",
        "40 I                   4.48228422467\n",
        "41 Sao                 4.47279263955\n",
        "42 p                   4.46646775105\n",
        "43 family              4.4632078186\n",
        "44 would               4.46319073853\n",
        "45 'll                 4.45684135949\n",
        "46 Category            4.43129776436\n",
        "47 de                  4.42842055261\n",
        "48 've                 4.39684243723\n",
        "49 There               4.37740145981\n",
        "\n",
        "\n",
        "Smallest vectors\n",
        "0  BCM                 0.971522730608\n",
        "1  Taiho               0.971778857888\n",
        "2  Sampo               0.973449732006\n",
        "3  Avanti              1.02759660729\n",
        "4  Saro                1.03470221926\n",
        "5  Eos                 1.04360265791\n",
        "6  Tripod              1.04644334528\n",
        "7  Silo                1.05262382219\n",
        "8  Aum                 1.05415318123\n",
        "9  Moyo                1.05469930799\n",
        "10 Cori                1.06387176666\n",
        "11 Yugo                1.07107561815\n",
        "12 Phoebus             1.0712036008\n",
        "13 Strongbow           1.07150066736\n",
        "14 Wooley              1.07304623693\n",
        "15 CCT                 1.07454321401\n",
        "16 PCD                 1.07518048802\n",
        "17 Crone               1.07536382493\n",
        "18 Gulen               1.07549895525\n",
        "19 Carruthers          1.08285463435\n",
        "20 Akatsuki            1.0837479577\n",
        "21 Morland             1.08657946926\n",
        "22 Slava               1.08979970164\n",
        "23 Kahl                1.0901751593\n",
        "24 Maran               1.09139675273\n",
        "25 Urania              1.09439331386\n",
        "26 Dux                 1.09454681091\n",
        "27 Hanes               1.09550898768\n",
        "28 Karas               1.09562067549\n",
        "29 Rzeczpospolita      1.09729858875\n",
        "30 Rane                1.0989624543\n",
        "31 Ura                 1.10312121603\n",
        "32 Coda                1.10374264005\n",
        "33 Terrill             1.10471454432\n",
        "34 Barthel             1.10601147755\n",
        "35 Mattson             1.10646677004\n",
        "36 SCT                 1.10672238172\n",
        "37 Aber                1.10929191209\n",
        "38 Wyvern              1.11079216138\n",
        "39 Cresswell           1.11416613983\n",
        "40 Kalina              1.11477670285\n",
        "41 Theremin            1.11582390215\n",
        "42 Strider             1.11823532117\n",
        "43 Laibach             1.11919767634\n",
        "44 Mele                1.12016197328\n",
        "45 Gault               1.12183526782\n",
        "46 Hulbert             1.12267505786\n",
        "47 Oko                 1.12437086032\n",
        "48 Laycock             1.12571502946\n",
        "49 Colwell             1.12620920355\n"
       ]
      }
     ],
     "prompt_number": 56
    },
    {
     "cell_type": "code",
     "collapsed": false,
     "input": [],
     "language": "python",
     "metadata": {},
     "outputs": []
    }
   ],
   "metadata": {}
  }
 ]
}